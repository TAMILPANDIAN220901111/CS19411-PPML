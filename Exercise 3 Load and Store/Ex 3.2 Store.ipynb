{
 "cells": [
  {
   "cell_type": "code",
   "execution_count": 14,
   "id": "2098c59a",
   "metadata": {},
   "outputs": [
    {
     "name": "stdout",
     "output_type": "stream",
     "text": [
      "       a  b  c\n",
      "one    1  2  3\n",
      "two    4  5  6\n",
      "three  7  8  9\n"
     ]
    }
   ],
   "source": [
    "import pandas as pd\n",
    "df=pd.DataFrame([[1,2,3],[4,5,6],[7,8,9]],index=['one','two','three'],columns=['a','b','c'])\n",
    "print(df)"
   ]
  },
  {
   "cell_type": "code",
   "execution_count": 15,
   "id": "62e94689",
   "metadata": {},
   "outputs": [
    {
     "name": "stdout",
     "output_type": "stream",
     "text": [
      "       a  b  c\n",
      "one    1  2  3\n",
      "two    4  5  6\n",
      "three  7  8  9\n"
     ]
    }
   ],
   "source": [
    "import pandas as pd\n",
    "df=pd.DataFrame([[1,2,3],[4,5,6],[7,8,9]],index=['one','two','three'],columns=['a','b','c'])\n",
    "print(df)\n",
    "df.to_excel('C:/Users/Tcs/220901111/dataset.xlsx')"
   ]
  },
  {
   "cell_type": "code",
   "execution_count": 33,
   "id": "b1fe7a1d",
   "metadata": {},
   "outputs": [
    {
     "name": "stdout",
     "output_type": "stream",
     "text": [
      "       a   b   c\n",
      "four  12  23  65\n",
      "five  23  43  57\n",
      "six   12  34  56\n"
     ]
    }
   ],
   "source": [
    "df1=pd.DataFrame([[12,23,65],[23,43,57],[12,34,56]],index=['four','five','six'],columns=['a','b','c'])\n",
    "df1.to_excel('C:/Users/Tcs/220901111/dataset1.xlsx')\n",
    "print(df1)"
   ]
  },
  {
   "cell_type": "code",
   "execution_count": 34,
   "id": "0fe93ed1",
   "metadata": {},
   "outputs": [
    {
     "name": "stdout",
     "output_type": "stream",
     "text": [
      "  Unnamed: 0   a   b   c\n",
      "0        one   1   2   3\n",
      "1        two   4   5   6\n",
      "2      three   7   8   9\n",
      "0       four  12  23  65\n",
      "1       five  23  43  57\n",
      "2        six  12  34  56\n"
     ]
    }
   ],
   "source": [
    "x=pd.read_excel('C:/Users/Tcs/220901111/dataset.xlsx')\n",
    "y=pd.read_excel('C:/Users/Tcs/220901111/dataset1.xlsx')\n",
    "z=pd.concat([x,y],axis='rows')\n",
    "print(z)"
   ]
  },
  {
   "cell_type": "code",
   "execution_count": 31,
   "id": "ae19f7a5",
   "metadata": {},
   "outputs": [],
   "source": [
    "z.to_excel('C:/Users/Tcs/220901111/mergeddata.xlsx')"
   ]
  },
  {
   "cell_type": "code",
   "execution_count": 35,
   "id": "6dd5660b",
   "metadata": {},
   "outputs": [
    {
     "name": "stdout",
     "output_type": "stream",
     "text": [
      "  Unnamed: 0   a   b   c\n",
      "0        one   1   2   3\n",
      "1        two   4   5   6\n",
      "2      three   7   8   9\n",
      "2        six  12  34  56\n",
      "1       five  23  43  57\n",
      "0       four  12  23  65\n"
     ]
    }
   ],
   "source": [
    "df3=z.sort_values(['c'])\n",
    "print(df3)"
   ]
  },
  {
   "cell_type": "code",
   "execution_count": null,
   "id": "08d86a65",
   "metadata": {},
   "outputs": [],
   "source": []
  }
 ],
 "metadata": {
  "kernelspec": {
   "display_name": "Python 3 (ipykernel)",
   "language": "python",
   "name": "python3"
  },
  "language_info": {
   "codemirror_mode": {
    "name": "ipython",
    "version": 3
   },
   "file_extension": ".py",
   "mimetype": "text/x-python",
   "name": "python",
   "nbconvert_exporter": "python",
   "pygments_lexer": "ipython3",
   "version": "3.11.4"
  }
 },
 "nbformat": 4,
 "nbformat_minor": 5
}
