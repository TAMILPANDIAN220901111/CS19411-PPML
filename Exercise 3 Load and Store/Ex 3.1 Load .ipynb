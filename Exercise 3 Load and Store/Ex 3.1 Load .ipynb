{
 "cells": [
  {
   "cell_type": "code",
   "execution_count": 17,
   "id": "9c153e18",
   "metadata": {},
   "outputs": [
    {
     "name": "stdout",
     "output_type": "stream",
     "text": [
      "    First Name  Gender  Start Date Last Login Time  Salary  Bonus %  \\\n",
      "0      Douglas    Male  08-06-1993        12:42 PM   97308    6.945   \n",
      "1       Thomas    Male   3/31/1996        06:53 AM   61933    4.170   \n",
      "2        Maria  Female   4/23/1993        11:17 AM  130590   11.858   \n",
      "3        Jerry    Male  03-04-2005        01:00 PM  138705    9.340   \n",
      "4        Larry    Male   1/24/1998        04:47 PM  101004    1.389   \n",
      "..         ...     ...         ...             ...     ...      ...   \n",
      "995      Henry     NaN  11/23/2014        06:09 AM  132483   16.655   \n",
      "996    Phillip    Male   1/31/1984        06:30 AM   42392   19.675   \n",
      "997    Russell    Male   5/20/2013        12:39 PM   96914    1.421   \n",
      "998      Larry    Male   4/20/2013        04:45 PM   60500   11.985   \n",
      "999     Albert    Male   5/15/2012        06:24 PM  129949   10.169   \n",
      "\n",
      "    Senior Management                  Team  \n",
      "0                True             Marketing  \n",
      "1                True                   NaN  \n",
      "2               False               Finance  \n",
      "3                True               Finance  \n",
      "4                True       Client Services  \n",
      "..                ...                   ...  \n",
      "995             False          Distribution  \n",
      "996             False               Finance  \n",
      "997             False               Product  \n",
      "998             False  Business Development  \n",
      "999              True                 Sales  \n",
      "\n",
      "[1000 rows x 8 columns]\n"
     ]
    }
   ],
   "source": [
    "import pandas as p\n",
    "file=p.read_csv(r\"C:\\Users\\Tcs\\Downloads\\Emp.csv\")\n",
    "print(file)\n"
   ]
  },
  {
   "cell_type": "code",
   "execution_count": 18,
   "id": "a9ff024d",
   "metadata": {},
   "outputs": [
    {
     "name": "stdout",
     "output_type": "stream",
     "text": [
      "    First Name  Gender  Start Date Last Login Time  Salary  Bonus %  \\\n",
      "0      Douglas    Male  08-06-1993        12:42 PM   97308    6.945   \n",
      "1       Thomas    Male   3/31/1996        06:53 AM   61933    4.170   \n",
      "2        Maria  Female   4/23/1993        11:17 AM  130590   11.858   \n",
      "3        Jerry    Male  03-04-2005        01:00 PM  138705    9.340   \n",
      "4        Larry    Male   1/24/1998        04:47 PM  101004    1.389   \n",
      "..         ...     ...         ...             ...     ...      ...   \n",
      "995      Henry     NaN  11/23/2014        06:09 AM  132483   16.655   \n",
      "996    Phillip    Male   1/31/1984        06:30 AM   42392   19.675   \n",
      "997    Russell    Male   5/20/2013        12:39 PM   96914    1.421   \n",
      "998      Larry    Male   4/20/2013        04:45 PM   60500   11.985   \n",
      "999     Albert    Male   5/15/2012        06:24 PM  129949   10.169   \n",
      "\n",
      "    Senior Management                  Team  \n",
      "0                True             Marketing  \n",
      "1                True                   NaN  \n",
      "2               False               Finance  \n",
      "3                True               Finance  \n",
      "4                True       Client Services  \n",
      "..                ...                   ...  \n",
      "995             False          Distribution  \n",
      "996             False               Finance  \n",
      "997             False               Product  \n",
      "998             False  Business Development  \n",
      "999              True                 Sales  \n",
      "\n",
      "[1000 rows x 8 columns]\n"
     ]
    }
   ],
   "source": [
    "table=p.DataFrame(file)\n",
    "print(table)"
   ]
  },
  {
   "cell_type": "code",
   "execution_count": 19,
   "id": "c61135ef",
   "metadata": {},
   "outputs": [
    {
     "name": "stdout",
     "output_type": "stream",
     "text": [
      "Index(['First Name', 'Gender', 'Start Date', 'Last Login Time', 'Salary',\n",
      "       'Bonus %', 'Senior Management', 'Team'],\n",
      "      dtype='object')\n"
     ]
    }
   ],
   "source": [
    "print(table.columns)"
   ]
  },
  {
   "cell_type": "code",
   "execution_count": 20,
   "id": "26f6d268",
   "metadata": {},
   "outputs": [
    {
     "name": "stdout",
     "output_type": "stream",
     "text": [
      "(1000, 8)\n"
     ]
    }
   ],
   "source": [
    "print(table.shape)"
   ]
  },
  {
   "cell_type": "code",
   "execution_count": 21,
   "id": "ab6afbfa",
   "metadata": {},
   "outputs": [
    {
     "name": "stdout",
     "output_type": "stream",
     "text": [
      "0       97308\n",
      "1       61933\n",
      "2      130590\n",
      "3      138705\n",
      "4      101004\n",
      "        ...  \n",
      "995    132483\n",
      "996     42392\n",
      "997     96914\n",
      "998     60500\n",
      "999    129949\n",
      "Name: Salary, Length: 1000, dtype: int64\n"
     ]
    }
   ],
   "source": [
    "print(table['Salary'])"
   ]
  },
  {
   "cell_type": "code",
   "execution_count": 22,
   "id": "0a81ad8e",
   "metadata": {},
   "outputs": [
    {
     "name": "stdout",
     "output_type": "stream",
     "text": [
      "  First Name  Gender  Start Date Last Login Time  Salary  Bonus %  \\\n",
      "1     Thomas    Male   3/31/1996        06:53 AM   61933    4.170   \n",
      "2      Maria  Female   4/23/1993        11:17 AM  130590   11.858   \n",
      "3      Jerry    Male  03-04-2005        01:00 PM  138705    9.340   \n",
      "\n",
      "  Senior Management     Team  \n",
      "1              True      NaN  \n",
      "2             False  Finance  \n",
      "3              True  Finance  \n"
     ]
    }
   ],
   "source": [
    "print(table[1:4])"
   ]
  },
  {
   "cell_type": "code",
   "execution_count": 23,
   "id": "bb099f9c",
   "metadata": {},
   "outputs": [
    {
     "name": "stdout",
     "output_type": "stream",
     "text": [
      "First Name               Maria\n",
      "Gender                  Female\n",
      "Start Date           4/23/1993\n",
      "Last Login Time       11:17 AM\n",
      "Salary                  130590\n",
      "Bonus %                 11.858\n",
      "Senior Management        False\n",
      "Team                   Finance\n",
      "Name: 2, dtype: object\n"
     ]
    }
   ],
   "source": [
    "print(table.loc[2])"
   ]
  },
  {
   "cell_type": "code",
   "execution_count": 24,
   "id": "abd1bccc",
   "metadata": {},
   "outputs": [
    {
     "name": "stdout",
     "output_type": "stream",
     "text": [
      "  First Name Gender Start Date Last Login Time  Salary  Bonus %  \\\n",
      "5      Tamil   Male  4/18/1987        01:35 AM  115163   10.125   \n",
      "\n",
      "  Senior Management   Team  \n",
      "5             False  Legal  \n"
     ]
    }
   ],
   "source": [
    "print(table.loc[table['First Name']=='Tamil'])"
   ]
  },
  {
   "cell_type": "code",
   "execution_count": 26,
   "id": "8457fc6c",
   "metadata": {},
   "outputs": [
    {
     "name": "stdout",
     "output_type": "stream",
     "text": [
      "0       97.308\n",
      "1       61.933\n",
      "2      130.590\n",
      "3      138.705\n",
      "4      101.004\n",
      "        ...   \n",
      "995    132.483\n",
      "996     42.392\n",
      "997     96.914\n",
      "998     60.500\n",
      "999    129.949\n",
      "Name: Salary, Length: 1000, dtype: float64\n"
     ]
    }
   ],
   "source": [
    "print(table['Salary']/1000)"
   ]
  },
  {
   "cell_type": "code",
   "execution_count": null,
   "id": "ed238866",
   "metadata": {},
   "outputs": [],
   "source": []
  }
 ],
 "metadata": {
  "kernelspec": {
   "display_name": "Python 3 (ipykernel)",
   "language": "python",
   "name": "python3"
  },
  "language_info": {
   "codemirror_mode": {
    "name": "ipython",
    "version": 3
   },
   "file_extension": ".py",
   "mimetype": "text/x-python",
   "name": "python",
   "nbconvert_exporter": "python",
   "pygments_lexer": "ipython3",
   "version": "3.11.4"
  }
 },
 "nbformat": 4,
 "nbformat_minor": 5
}
