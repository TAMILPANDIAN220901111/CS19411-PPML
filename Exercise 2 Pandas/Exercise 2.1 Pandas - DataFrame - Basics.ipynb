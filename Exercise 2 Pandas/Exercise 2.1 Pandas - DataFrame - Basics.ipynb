{
 "cells": [
  {
   "cell_type": "code",
   "execution_count": 1,
   "id": "952df08c",
   "metadata": {},
   "outputs": [
    {
     "name": "stdout",
     "output_type": "stream",
     "text": [
      "Empty DataFrame\n",
      "Columns: []\n",
      "Index: []\n"
     ]
    }
   ],
   "source": [
    "import pandas as p\n",
    "df=p.DataFrame()\n",
    "print(df)"
   ]
  },
  {
   "cell_type": "code",
   "execution_count": 5,
   "id": "8af7da96",
   "metadata": {},
   "outputs": [
    {
     "name": "stdout",
     "output_type": "stream",
     "text": [
      "   EMP ID     NAME\n",
      "0   11012   Ramesh\n",
      "1   12334   Suresh\n",
      "2   23455  Shravan\n"
     ]
    }
   ],
   "source": [
    "emp_name=p.Series(['Ramesh','Suresh','Shravan'])\n",
    "emp_id=p.Series([11012,12334,23455])\n",
    "frame={'EMP ID':emp_id,'NAME':emp_name}\n",
    "table=p.DataFrame(frame)\n",
    "print(table)\n",
    "                   "
   ]
  },
  {
   "cell_type": "code",
   "execution_count": 6,
   "id": "4964f7cc",
   "metadata": {},
   "outputs": [
    {
     "name": "stdout",
     "output_type": "stream",
     "text": [
      "0    11012\n",
      "1    12334\n",
      "2    23455\n",
      "Name: EMP ID, dtype: int64\n"
     ]
    }
   ],
   "source": [
    "print(table['EMP ID'])"
   ]
  },
  {
   "cell_type": "code",
   "execution_count": 8,
   "id": "92231b53",
   "metadata": {},
   "outputs": [
    {
     "name": "stdout",
     "output_type": "stream",
     "text": [
      "   EMP ID     NAME   SALARY\n",
      "0   11012   Ramesh   700000\n",
      "1   12334   Suresh  1200000\n",
      "2   23455  Shravan  1000000\n"
     ]
    }
   ],
   "source": [
    "table['SALARY']=p.Series([700000,1200000,1000000])\n",
    "print(table)\n"
   ]
  },
  {
   "cell_type": "code",
   "execution_count": 9,
   "id": "5936746a",
   "metadata": {},
   "outputs": [
    {
     "name": "stdout",
     "output_type": "stream",
     "text": [
      "   EMP ID     NAME   SALARY\n",
      "0   11012   Ramesh   700000\n",
      "1   12334   Suresh  1200000\n",
      "2   23455  Shravan  1000000\n"
     ]
    }
   ],
   "source": [
    "print(table)"
   ]
  },
  {
   "cell_type": "code",
   "execution_count": 10,
   "id": "4048a4d9",
   "metadata": {},
   "outputs": [
    {
     "name": "stdout",
     "output_type": "stream",
     "text": [
      "      NAME   SALARY\n",
      "0   Ramesh   700000\n",
      "1   Suresh  1200000\n",
      "2  Shravan  1000000\n"
     ]
    }
   ],
   "source": [
    "del table['EMP ID']\n",
    "print(table)"
   ]
  },
  {
   "cell_type": "code",
   "execution_count": 11,
   "id": "b598e178",
   "metadata": {},
   "outputs": [
    {
     "name": "stdout",
     "output_type": "stream",
     "text": [
      "NAME      Shravan\n",
      "SALARY    1000000\n",
      "Name: 2, dtype: object\n"
     ]
    }
   ],
   "source": [
    "#to print particular row using index\n",
    "print(table.loc[2])"
   ]
  },
  {
   "cell_type": "code",
   "execution_count": 12,
   "id": "e1eb4dd6",
   "metadata": {},
   "outputs": [
    {
     "name": "stdout",
     "output_type": "stream",
     "text": [
      "      NAME   SALARY\n",
      "1   Suresh  1200000\n",
      "2  Shravan  1000000\n"
     ]
    }
   ],
   "source": [
    "print(table[1:3])"
   ]
  },
  {
   "cell_type": "code",
   "execution_count": 20,
   "id": "c3aa0c4a",
   "metadata": {},
   "outputs": [
    {
     "name": "stdout",
     "output_type": "stream",
     "text": [
      "      NAME   SALARY\n",
      "0   Ramesh   700000\n",
      "1   Suresh  1200000\n",
      "2  Shravan  1000000\n",
      "0   Mayank  1200000\n",
      "1    Ragul  1000000\n"
     ]
    }
   ],
   "source": [
    "addi=p.DataFrame([['Mayank','1200000'],['Ragul','1000000']],columns=['NAME','SALARY'])\n",
    "table=p.concat([table,addi])\n",
    "print(table)\n",
    "\n"
   ]
  },
  {
   "cell_type": "code",
   "execution_count": null,
   "id": "d2961464",
   "metadata": {},
   "outputs": [],
   "source": []
  }
 ],
 "metadata": {
  "kernelspec": {
   "display_name": "Python 3 (ipykernel)",
   "language": "python",
   "name": "python3"
  },
  "language_info": {
   "codemirror_mode": {
    "name": "ipython",
    "version": 3
   },
   "file_extension": ".py",
   "mimetype": "text/x-python",
   "name": "python",
   "nbconvert_exporter": "python",
   "pygments_lexer": "ipython3",
   "version": "3.11.4"
  }
 },
 "nbformat": 4,
 "nbformat_minor": 5
}
