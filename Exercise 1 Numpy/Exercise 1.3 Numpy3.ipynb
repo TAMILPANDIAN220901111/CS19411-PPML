{
 "cells": [
  {
   "cell_type": "code",
   "execution_count": 7,
   "id": "0065279f",
   "metadata": {},
   "outputs": [
    {
     "name": "stdout",
     "output_type": "stream",
     "text": [
      "The locations of 4 in the array are: (array([ 5, 10, 11], dtype=int64),)\n"
     ]
    }
   ],
   "source": [
    "import numpy as n\n",
    "arr=n.array([1,2,45,12,23,3,4,45,34,121,3,3,45])\n",
    "temp=n.where(arr==3)\n",
    "print(f\"The locations of 4 in the array are: {temp}\")"
   ]
  },
  {
   "cell_type": "code",
   "execution_count": 8,
   "id": "7d02659c",
   "metadata": {},
   "outputs": [
    {
     "name": "stdout",
     "output_type": "stream",
     "text": [
      "The locations of even nums in the array are: (array([1, 3, 6, 8], dtype=int64),)\n"
     ]
    }
   ],
   "source": [
    "temp1=n.where(arr%2==0)\n",
    "print(f\"The locations of even nums in the array are: {temp1}\")"
   ]
  },
  {
   "cell_type": "code",
   "execution_count": 10,
   "id": "329e1ba0",
   "metadata": {},
   "outputs": [
    {
     "name": "stdout",
     "output_type": "stream",
     "text": [
      "[  1   2   3   3   3   4  12  23  34  45  45  45 121]\n"
     ]
    }
   ],
   "source": [
    "x=n.sort(arr)\n",
    "print(x)"
   ]
  },
  {
   "cell_type": "code",
   "execution_count": 12,
   "id": "99eff023",
   "metadata": {},
   "outputs": [
    {
     "name": "stdout",
     "output_type": "stream",
     "text": [
      "6\n"
     ]
    }
   ],
   "source": [
    "y=n.searchsorted(x,6)\n",
    "print(y)"
   ]
  },
  {
   "cell_type": "code",
   "execution_count": 13,
   "id": "43f9ae88",
   "metadata": {},
   "outputs": [
    {
     "name": "stdout",
     "output_type": "stream",
     "text": [
      "[[ 1  2  4  5]\n",
      " [ 2  4  5 12]]\n"
     ]
    }
   ],
   "source": [
    "z=n.array([[1,4,5,2],[12,4,5,2]])\n",
    "print(n.sort(z))"
   ]
  },
  {
   "cell_type": "code",
   "execution_count": 14,
   "id": "53f14b4a",
   "metadata": {},
   "outputs": [
    {
     "name": "stdout",
     "output_type": "stream",
     "text": [
      "[  1   3   3  12  34  45 121]\n"
     ]
    }
   ],
   "source": [
    "x1=[True,False,True,False,True,False,True,False,True,False,True,False,True]\n",
    "new=x[x1]\n",
    "print(new)"
   ]
  },
  {
   "cell_type": "code",
   "execution_count": 25,
   "id": "f03d60b5",
   "metadata": {},
   "outputs": [
    {
     "name": "stdout",
     "output_type": "stream",
     "text": [
      "[False False False  True]\n",
      "[4]\n"
     ]
    }
   ],
   "source": [
    "arr21=n.array([1,2,3,4])\n",
    "x_2=arr21>3\n",
    "print(x_2)\n",
    "new1=arr21[x_2]\n",
    "print(new1)"
   ]
  },
  {
   "cell_type": "code",
   "execution_count": null,
   "id": "4190926a",
   "metadata": {},
   "outputs": [],
   "source": []
  }
 ],
 "metadata": {
  "kernelspec": {
   "display_name": "Python 3 (ipykernel)",
   "language": "python",
   "name": "python3"
  },
  "language_info": {
   "codemirror_mode": {
    "name": "ipython",
    "version": 3
   },
   "file_extension": ".py",
   "mimetype": "text/x-python",
   "name": "python",
   "nbconvert_exporter": "python",
   "pygments_lexer": "ipython3",
   "version": "3.11.4"
  }
 },
 "nbformat": 4,
 "nbformat_minor": 5
}
