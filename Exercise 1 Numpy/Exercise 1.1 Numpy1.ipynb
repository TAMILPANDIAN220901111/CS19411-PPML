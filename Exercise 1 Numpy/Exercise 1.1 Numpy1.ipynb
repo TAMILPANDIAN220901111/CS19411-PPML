{
 "cells": [
  {
   "cell_type": "code",
   "execution_count": 2,
   "id": "0018f3b4",
   "metadata": {},
   "outputs": [
    {
     "name": "stdout",
     "output_type": "stream",
     "text": [
      "[[1 2 3 4]\n",
      " [5 6 7 8]]\n"
     ]
    }
   ],
   "source": [
    "import numpy as n\n",
    "a=n.array([[1,2,3,4],[5,6,7,8]])\n",
    "print(a)"
   ]
  },
  {
   "cell_type": "code",
   "execution_count": 3,
   "id": "fcda8d8c",
   "metadata": {},
   "outputs": [
    {
     "name": "stdout",
     "output_type": "stream",
     "text": [
      "[[0. 0. 0. 0. 0.]\n",
      " [0. 0. 0. 0. 0.]\n",
      " [0. 0. 0. 0. 0.]]\n"
     ]
    }
   ],
   "source": [
    "b=n.zeros((3,5))\n",
    "print(b)"
   ]
  },
  {
   "cell_type": "code",
   "execution_count": 5,
   "id": "98b12402",
   "metadata": {},
   "outputs": [
    {
     "name": "stdout",
     "output_type": "stream",
     "text": [
      "[[2 2 2 2 2]\n",
      " [2 2 2 2 2]\n",
      " [2 2 2 2 2]]\n"
     ]
    }
   ],
   "source": [
    "c=n.full((3,5),2)\n",
    "print(c)"
   ]
  },
  {
   "cell_type": "code",
   "execution_count": 10,
   "id": "afe1411d",
   "metadata": {},
   "outputs": [
    {
     "name": "stdout",
     "output_type": "stream",
     "text": [
      "[[0.10197936 0.82262893 0.66465933]\n",
      " [0.53245615 0.45743243 0.91207587]\n",
      " [0.2202847  0.0698336  0.55002991]\n",
      " [0.37735849 0.8402918  0.77616907]\n",
      " [0.28511182 0.77581189 0.83366439]]\n"
     ]
    }
   ],
   "source": [
    "d=n.random.random((5,3))\n",
    "print(d)"
   ]
  },
  {
   "cell_type": "code",
   "execution_count": 11,
   "id": "aa800caf",
   "metadata": {},
   "outputs": [
    {
     "name": "stdout",
     "output_type": "stream",
     "text": [
      "[0 2 4 6 8]\n"
     ]
    }
   ],
   "source": [
    "e=n.arange(0,10,2)\n",
    "print(e)"
   ]
  },
  {
   "cell_type": "code",
   "execution_count": 14,
   "id": "96537a9f",
   "metadata": {},
   "outputs": [
    {
     "name": "stdout",
     "output_type": "stream",
     "text": [
      "[[0.10197936 0.82262893 0.66465933 0.53245615 0.45743243]\n",
      " [0.91207587 0.2202847  0.0698336  0.55002991 0.37735849]\n",
      " [0.8402918  0.77616907 0.28511182 0.77581189 0.83366439]]\n"
     ]
    }
   ],
   "source": [
    "e=d.reshape(3,5)\n",
    "print(e)"
   ]
  },
  {
   "cell_type": "code",
   "execution_count": 16,
   "id": "5e5a244d",
   "metadata": {},
   "outputs": [
    {
     "name": "stdout",
     "output_type": "stream",
     "text": [
      "[0.10197936 0.82262893 0.66465933 0.53245615 0.45743243 0.91207587\n",
      " 0.2202847  0.0698336  0.55002991 0.37735849 0.8402918  0.77616907\n",
      " 0.28511182 0.77581189 0.83366439]\n"
     ]
    }
   ],
   "source": [
    "f=e.flatten()\n",
    "print(f)"
   ]
  },
  {
   "cell_type": "code",
   "execution_count": 18,
   "id": "8ff7dc21",
   "metadata": {},
   "outputs": [
    {
     "name": "stdout",
     "output_type": "stream",
     "text": [
      "2\n"
     ]
    }
   ],
   "source": [
    "print(e.ndim)"
   ]
  },
  {
   "cell_type": "code",
   "execution_count": 19,
   "id": "25cea769",
   "metadata": {},
   "outputs": [
    {
     "name": "stdout",
     "output_type": "stream",
     "text": [
      "(3, 5)\n"
     ]
    }
   ],
   "source": [
    "  print(e.shape)"
   ]
  },
  {
   "cell_type": "code",
   "execution_count": 20,
   "id": "8ad99550",
   "metadata": {},
   "outputs": [
    {
     "name": "stdout",
     "output_type": "stream",
     "text": [
      "float64\n"
     ]
    }
   ],
   "source": [
    "print(e.dtype)"
   ]
  },
  {
   "cell_type": "code",
   "execution_count": 21,
   "id": "8497bcaa",
   "metadata": {},
   "outputs": [
    {
     "name": "stdout",
     "output_type": "stream",
     "text": [
      "[[0 0 0 0 0]\n",
      " [0 0 0 0 0]\n",
      " [0 0 0 0 0]]\n"
     ]
    }
   ],
   "source": [
    "print(e.astype('i'))"
   ]
  },
  {
   "cell_type": "code",
   "execution_count": null,
   "id": "c35273f4",
   "metadata": {},
   "outputs": [],
   "source": []
  }
 ],
 "metadata": {
  "kernelspec": {
   "display_name": "Python 3 (ipykernel)",
   "language": "python",
   "name": "python3"
  },
  "language_info": {
   "codemirror_mode": {
    "name": "ipython",
    "version": 3
   },
   "file_extension": ".py",
   "mimetype": "text/x-python",
   "name": "python",
   "nbconvert_exporter": "python",
   "pygments_lexer": "ipython3",
   "version": "3.11.4"
  }
 },
 "nbformat": 4,
 "nbformat_minor": 5
}
