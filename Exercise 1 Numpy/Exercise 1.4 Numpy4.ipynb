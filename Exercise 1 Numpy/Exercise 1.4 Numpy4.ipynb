{
 "cells": [
  {
   "cell_type": "code",
   "execution_count": 1,
   "id": "dd18397e",
   "metadata": {},
   "outputs": [
    {
     "name": "stdout",
     "output_type": "stream",
     "text": [
      "Original:\n",
      "[ 1 23 23 12 15]\n",
      "[13 12 34 67 56]\n",
      "\n"
     ]
    }
   ],
   "source": [
    "import numpy as n\n",
    "arr1=n.array([1,23,23,12,15])\n",
    "arr2=n.array([13,12,34,67,56])\n",
    "print(f\"Original:\\n{arr1}\\n{arr2}\\n\")\n",
    "\n"
   ]
  },
  {
   "cell_type": "code",
   "execution_count": 2,
   "id": "b7f3d6da",
   "metadata": {},
   "outputs": [
    {
     "name": "stdout",
     "output_type": "stream",
     "text": [
      "Vector Addition:\n",
      "[14 35 57 79 71]\n"
     ]
    }
   ],
   "source": [
    "print(f\"Vector Addition:\\n{arr1+arr2}\")"
   ]
  },
  {
   "cell_type": "code",
   "execution_count": 3,
   "id": "a6a3bac5",
   "metadata": {},
   "outputs": [
    {
     "name": "stdout",
     "output_type": "stream",
     "text": [
      "Vector subtraction:\n",
      "[-12  11 -11 -55 -41]\n"
     ]
    }
   ],
   "source": [
    "print(f\"Vector subtraction:\\n{arr1-arr2}\")"
   ]
  },
  {
   "cell_type": "code",
   "execution_count": 4,
   "id": "3954e532",
   "metadata": {},
   "outputs": [
    {
     "name": "stdout",
     "output_type": "stream",
     "text": [
      "Vector multiplication:\n",
      "[ 13 276 782 804 840]\n"
     ]
    }
   ],
   "source": [
    "print(f\"Vector multiplication:\\n{arr1*arr2}\")"
   ]
  },
  {
   "cell_type": "code",
   "execution_count": 5,
   "id": "8d0d7f4a",
   "metadata": {},
   "outputs": [
    {
     "name": "stdout",
     "output_type": "stream",
     "text": [
      "Vector division:\n",
      "[13.          0.52173913  1.47826087  5.58333333  3.73333333]\n"
     ]
    }
   ],
   "source": [
    "print(f\"Vector division:\\n{arr2/arr1}\")"
   ]
  },
  {
   "cell_type": "code",
   "execution_count": 6,
   "id": "c848b236",
   "metadata": {},
   "outputs": [
    {
     "name": "stdout",
     "output_type": "stream",
     "text": [
      "Vector dot product :\n",
      "2715\n"
     ]
    }
   ],
   "source": [
    "print(f\"Vector dot product :\\n{arr1.dot(arr2)}\")"
   ]
  },
  {
   "cell_type": "code",
   "execution_count": 7,
   "id": "005d7b02",
   "metadata": {},
   "outputs": [
    {
     "name": "stdout",
     "output_type": "stream",
     "text": [
      "Scalar Multiplication : \n",
      "[  5 115 115  60  75]\n"
     ]
    }
   ],
   "source": [
    "sclr=5\n",
    "print(f\"Scalar Multiplication : \\n{sclr*arr1}\")"
   ]
  },
  {
   "cell_type": "code",
   "execution_count": 8,
   "id": "5a894293",
   "metadata": {},
   "outputs": [
    {
     "name": "stdout",
     "output_type": "stream",
     "text": [
      "[5 7 9]\n"
     ]
    }
   ],
   "source": [
    "def func(x,y):\n",
    "    if x>y:\n",
    "        return x-y\n",
    "    else:\n",
    "        return x+y\n",
    "arr1=[1,2,3]\n",
    "arr2=[4,5,6]\n",
    "vec_func=n.vectorize(func)\n",
    "print(vec_func(arr1,arr2))"
   ]
  },
  {
   "cell_type": "code",
   "execution_count": null,
   "id": "81823926",
   "metadata": {},
   "outputs": [],
   "source": [
    " "
   ]
  }
 ],
 "metadata": {
  "kernelspec": {
   "display_name": "Python 3 (ipykernel)",
   "language": "python",
   "name": "python3"
  },
  "language_info": {
   "codemirror_mode": {
    "name": "ipython",
    "version": 3
   },
   "file_extension": ".py",
   "mimetype": "text/x-python",
   "name": "python",
   "nbconvert_exporter": "python",
   "pygments_lexer": "ipython3",
   "version": "3.11.4"
  }
 },
 "nbformat": 4,
 "nbformat_minor": 5
}
